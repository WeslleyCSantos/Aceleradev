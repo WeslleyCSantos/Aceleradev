{
 "cells": [
  {
   "cell_type": "code",
   "execution_count": 48,
   "metadata": {},
   "outputs": [],
   "source": [
    "import pandas as pd\n",
    "import numpy as np\n",
    "import seaborn as sns\n",
    "import matplotlib.pyplot as plt\n",
    "from sklearn.preprocessing import LabelEncoder,MinMaxScaler\n",
    "from sklearn.model_selection import train_test_split"
   ]
  },
  {
   "cell_type": "markdown",
   "metadata": {},
   "source": [
    "# Carregando os dados"
   ]
  },
  {
   "cell_type": "code",
   "execution_count": 2,
   "metadata": {},
   "outputs": [],
   "source": [
    "train = pd.read_csv('train.csv')\n",
    "test = pd.read_csv('test.csv')\n",
    "df_out = pd.DataFrame(columns=['NU_INSCRICAO','IN_TREINEIRO'])\n",
    "df_out['NU_INSCRICAO'] = test['NU_INSCRICAO']\n",
    "train.drop(['Q027', 'TP_DEPENDENCIA_ADM_ESC', 'TP_ENSINO'], axis=1, inplace=True)\n",
    "test.drop(['Q027', 'TP_DEPENDENCIA_ADM_ESC', 'TP_ENSINO'], axis=1, inplace=True)"
   ]
  },
  {
   "cell_type": "markdown",
   "metadata": {},
   "source": [
    "## Tornando os dois dataframes iguais"
   ]
  },
  {
   "cell_type": "code",
   "execution_count": 3,
   "metadata": {},
   "outputs": [],
   "source": [
    "columns = list(set(train.columns) & set(test.columns))\n",
    "train = train[columns+['IN_TREINEIRO']]"
   ]
  },
  {
   "cell_type": "code",
   "execution_count": 4,
   "metadata": {},
   "outputs": [],
   "source": [
    "completa_zero = ['NU_NOTA_COMP1','NU_NOTA_COMP2','NU_NOTA_COMP3','NU_NOTA_COMP4','NU_NOTA_COMP5','NU_NOTA_REDACAO','NU_NOTA_LC']\n",
    "train.loc[train[train['TP_PRESENCA_LC']== 0].index, completa_zero] = 0\n",
    "train.loc[train[train['TP_PRESENCA_LC']== 2].index, completa_zero] = 0\n",
    "test.loc[test[test['TP_PRESENCA_LC']== 0].index, completa_zero] = 0\n",
    "test.loc[test[test['TP_PRESENCA_LC']== 2].index, completa_zero] = 0"
   ]
  },
  {
   "cell_type": "code",
   "execution_count": 5,
   "metadata": {},
   "outputs": [],
   "source": [
    "train.loc[train[train['TP_PRESENCA_LC']== 0].index, 'TP_STATUS_REDACAO'] = 4\n",
    "train.loc[train[train['TP_PRESENCA_LC']== 2].index,'TP_STATUS_REDACAO'] = 2\n",
    "test.loc[test[test['TP_PRESENCA_LC']== 0].index,'TP_STATUS_REDACAO'] = 4\n",
    "test.loc[test[test['TP_PRESENCA_LC']== 2].index,'TP_STATUS_REDACAO'] = 2"
   ]
  },
  {
   "cell_type": "code",
   "execution_count": 6,
   "metadata": {},
   "outputs": [],
   "source": [
    "train.loc[train[train['TP_PRESENCA_CH']== 0].index,'NU_NOTA_CH'] = 0\n",
    "train.loc[train[train['TP_PRESENCA_CH']== 2].index, 'NU_NOTA_CH'] = 0\n",
    "test.loc[test[test['TP_PRESENCA_CH']== 0].index, 'NU_NOTA_CH'] = 0\n",
    "test.loc[test[test['TP_PRESENCA_CH']== 2].index, 'NU_NOTA_CH'] = 0"
   ]
  },
  {
   "cell_type": "markdown",
   "metadata": {},
   "source": [
    "## Observando as características dos dados"
   ]
  },
  {
   "cell_type": "code",
   "execution_count": 7,
   "metadata": {},
   "outputs": [],
   "source": [
    "\n",
    "train.loc[train[train['TP_PRESENCA_CN']== 0].index, 'NU_NOTA_CN'] = 0\n",
    "train.loc[train[train['TP_PRESENCA_CN']== 2].index, 'NU_NOTA_CN'] = 0\n",
    "test.loc[test[test['TP_PRESENCA_CN']== 0].index, 'NU_NOTA_CN'] = 0\n",
    "test.loc[test[test['TP_PRESENCA_CN']== 2].index, 'NU_NOTA_CN'] = 0"
   ]
  },
  {
   "cell_type": "code",
   "execution_count": 8,
   "metadata": {},
   "outputs": [],
   "source": [
    "train['TP_SEXO'] = pd.get_dummies(train['TP_SEXO'], drop_first=1)\n",
    "test['TP_SEXO'] = pd.get_dummies(test['TP_SEXO'], drop_first=1)"
   ]
  },
  {
   "cell_type": "code",
   "execution_count": 9,
   "metadata": {},
   "outputs": [],
   "source": [
    "def converte_var_categoricas(data):\n",
    "    i=0\n",
    "    category_features = data.select_dtypes(include='object').columns\n",
    "    for col_category in category_features:\n",
    "        le = LabelEncoder()\n",
    "        data[col_category] = le.fit_transform(data[col_category])\n",
    "        i+=1\n",
    "    return data\n",
    "\n",
    "train = converte_var_categoricas(train)\n",
    "test = converte_var_categoricas(test)"
   ]
  },
  {
   "cell_type": "code",
   "execution_count": 10,
   "metadata": {},
   "outputs": [
    {
     "data": {
      "text/html": [
       "<div>\n",
       "<style scoped>\n",
       "    .dataframe tbody tr th:only-of-type {\n",
       "        vertical-align: middle;\n",
       "    }\n",
       "\n",
       "    .dataframe tbody tr th {\n",
       "        vertical-align: top;\n",
       "    }\n",
       "\n",
       "    .dataframe thead th {\n",
       "        text-align: right;\n",
       "    }\n",
       "</style>\n",
       "<table border=\"1\" class=\"dataframe\">\n",
       "  <thead>\n",
       "    <tr style=\"text-align: right;\">\n",
       "      <th></th>\n",
       "      <th>IN_SABATISTA</th>\n",
       "      <th>Q024</th>\n",
       "      <th>IN_GESTANTE</th>\n",
       "      <th>IN_IDOSO</th>\n",
       "      <th>Q047</th>\n",
       "      <th>TP_SEXO</th>\n",
       "      <th>NU_NOTA_REDACAO</th>\n",
       "      <th>NU_IDADE</th>\n",
       "      <th>TP_PRESENCA_CN</th>\n",
       "      <th>IN_BAIXA_VISAO</th>\n",
       "      <th>...</th>\n",
       "      <th>IN_DISCALCULIA</th>\n",
       "      <th>Q025</th>\n",
       "      <th>TP_PRESENCA_CH</th>\n",
       "      <th>NU_NOTA_COMP3</th>\n",
       "      <th>NU_NOTA_LC</th>\n",
       "      <th>TP_COR_RACA</th>\n",
       "      <th>NU_NOTA_COMP4</th>\n",
       "      <th>Q026</th>\n",
       "      <th>TP_PRESENCA_MT</th>\n",
       "      <th>IN_TREINEIRO</th>\n",
       "    </tr>\n",
       "  </thead>\n",
       "  <tbody>\n",
       "    <tr>\n",
       "      <th>0</th>\n",
       "      <td>0</td>\n",
       "      <td>0</td>\n",
       "      <td>0</td>\n",
       "      <td>0</td>\n",
       "      <td>0</td>\n",
       "      <td>1</td>\n",
       "      <td>520.0</td>\n",
       "      <td>24</td>\n",
       "      <td>1</td>\n",
       "      <td>0</td>\n",
       "      <td>...</td>\n",
       "      <td>0</td>\n",
       "      <td>0</td>\n",
       "      <td>1</td>\n",
       "      <td>120.0</td>\n",
       "      <td>581.2</td>\n",
       "      <td>1</td>\n",
       "      <td>80.0</td>\n",
       "      <td>2</td>\n",
       "      <td>1</td>\n",
       "      <td>0</td>\n",
       "    </tr>\n",
       "    <tr>\n",
       "      <th>1</th>\n",
       "      <td>0</td>\n",
       "      <td>0</td>\n",
       "      <td>0</td>\n",
       "      <td>0</td>\n",
       "      <td>0</td>\n",
       "      <td>0</td>\n",
       "      <td>580.0</td>\n",
       "      <td>17</td>\n",
       "      <td>1</td>\n",
       "      <td>0</td>\n",
       "      <td>...</td>\n",
       "      <td>0</td>\n",
       "      <td>0</td>\n",
       "      <td>1</td>\n",
       "      <td>120.0</td>\n",
       "      <td>599.0</td>\n",
       "      <td>3</td>\n",
       "      <td>120.0</td>\n",
       "      <td>0</td>\n",
       "      <td>1</td>\n",
       "      <td>0</td>\n",
       "    </tr>\n",
       "    <tr>\n",
       "      <th>2</th>\n",
       "      <td>0</td>\n",
       "      <td>0</td>\n",
       "      <td>0</td>\n",
       "      <td>0</td>\n",
       "      <td>0</td>\n",
       "      <td>0</td>\n",
       "      <td>0.0</td>\n",
       "      <td>21</td>\n",
       "      <td>0</td>\n",
       "      <td>0</td>\n",
       "      <td>...</td>\n",
       "      <td>0</td>\n",
       "      <td>0</td>\n",
       "      <td>0</td>\n",
       "      <td>0.0</td>\n",
       "      <td>0.0</td>\n",
       "      <td>3</td>\n",
       "      <td>0.0</td>\n",
       "      <td>0</td>\n",
       "      <td>0</td>\n",
       "      <td>0</td>\n",
       "    </tr>\n",
       "    <tr>\n",
       "      <th>3</th>\n",
       "      <td>0</td>\n",
       "      <td>2</td>\n",
       "      <td>0</td>\n",
       "      <td>0</td>\n",
       "      <td>3</td>\n",
       "      <td>0</td>\n",
       "      <td>0.0</td>\n",
       "      <td>25</td>\n",
       "      <td>0</td>\n",
       "      <td>0</td>\n",
       "      <td>...</td>\n",
       "      <td>0</td>\n",
       "      <td>1</td>\n",
       "      <td>0</td>\n",
       "      <td>0.0</td>\n",
       "      <td>0.0</td>\n",
       "      <td>0</td>\n",
       "      <td>0.0</td>\n",
       "      <td>2</td>\n",
       "      <td>0</td>\n",
       "      <td>0</td>\n",
       "    </tr>\n",
       "    <tr>\n",
       "      <th>4</th>\n",
       "      <td>0</td>\n",
       "      <td>0</td>\n",
       "      <td>0</td>\n",
       "      <td>0</td>\n",
       "      <td>0</td>\n",
       "      <td>1</td>\n",
       "      <td>0.0</td>\n",
       "      <td>28</td>\n",
       "      <td>0</td>\n",
       "      <td>0</td>\n",
       "      <td>...</td>\n",
       "      <td>0</td>\n",
       "      <td>0</td>\n",
       "      <td>0</td>\n",
       "      <td>0.0</td>\n",
       "      <td>0.0</td>\n",
       "      <td>2</td>\n",
       "      <td>0.0</td>\n",
       "      <td>1</td>\n",
       "      <td>0</td>\n",
       "      <td>0</td>\n",
       "    </tr>\n",
       "  </tbody>\n",
       "</table>\n",
       "<p>5 rows × 41 columns</p>\n",
       "</div>"
      ],
      "text/plain": [
       "   IN_SABATISTA  Q024  IN_GESTANTE  IN_IDOSO  Q047  TP_SEXO  NU_NOTA_REDACAO  \\\n",
       "0             0     0            0         0     0        1            520.0   \n",
       "1             0     0            0         0     0        0            580.0   \n",
       "2             0     0            0         0     0        0              0.0   \n",
       "3             0     2            0         0     3        0              0.0   \n",
       "4             0     0            0         0     0        1              0.0   \n",
       "\n",
       "   NU_IDADE  TP_PRESENCA_CN  IN_BAIXA_VISAO  ...  IN_DISCALCULIA  Q025  \\\n",
       "0        24               1               0  ...               0     0   \n",
       "1        17               1               0  ...               0     0   \n",
       "2        21               0               0  ...               0     0   \n",
       "3        25               0               0  ...               0     1   \n",
       "4        28               0               0  ...               0     0   \n",
       "\n",
       "   TP_PRESENCA_CH  NU_NOTA_COMP3  NU_NOTA_LC  TP_COR_RACA  NU_NOTA_COMP4  \\\n",
       "0               1          120.0       581.2            1           80.0   \n",
       "1               1          120.0       599.0            3          120.0   \n",
       "2               0            0.0         0.0            3            0.0   \n",
       "3               0            0.0         0.0            0            0.0   \n",
       "4               0            0.0         0.0            2            0.0   \n",
       "\n",
       "   Q026  TP_PRESENCA_MT  IN_TREINEIRO  \n",
       "0     2               1             0  \n",
       "1     0               1             0  \n",
       "2     0               0             0  \n",
       "3     2               0             0  \n",
       "4     1               0             0  \n",
       "\n",
       "[5 rows x 41 columns]"
      ]
     },
     "execution_count": 10,
     "metadata": {},
     "output_type": "execute_result"
    }
   ],
   "source": [
    "\n",
    "train.head()"
   ]
  },
  {
   "cell_type": "code",
   "execution_count": 11,
   "metadata": {},
   "outputs": [
    {
     "data": {
      "text/html": [
       "<div>\n",
       "<style scoped>\n",
       "    .dataframe tbody tr th:only-of-type {\n",
       "        vertical-align: middle;\n",
       "    }\n",
       "\n",
       "    .dataframe tbody tr th {\n",
       "        vertical-align: top;\n",
       "    }\n",
       "\n",
       "    .dataframe thead th {\n",
       "        text-align: right;\n",
       "    }\n",
       "</style>\n",
       "<table border=\"1\" class=\"dataframe\">\n",
       "  <thead>\n",
       "    <tr style=\"text-align: right;\">\n",
       "      <th></th>\n",
       "      <th>IN_SABATISTA</th>\n",
       "      <th>Q024</th>\n",
       "      <th>IN_GESTANTE</th>\n",
       "      <th>IN_IDOSO</th>\n",
       "      <th>Q047</th>\n",
       "      <th>TP_SEXO</th>\n",
       "      <th>NU_NOTA_REDACAO</th>\n",
       "      <th>NU_IDADE</th>\n",
       "      <th>TP_PRESENCA_CN</th>\n",
       "      <th>IN_BAIXA_VISAO</th>\n",
       "      <th>...</th>\n",
       "      <th>IN_DISCALCULIA</th>\n",
       "      <th>Q025</th>\n",
       "      <th>TP_PRESENCA_CH</th>\n",
       "      <th>NU_NOTA_COMP3</th>\n",
       "      <th>NU_NOTA_LC</th>\n",
       "      <th>TP_COR_RACA</th>\n",
       "      <th>NU_NOTA_COMP4</th>\n",
       "      <th>Q026</th>\n",
       "      <th>TP_PRESENCA_MT</th>\n",
       "      <th>IN_TREINEIRO</th>\n",
       "    </tr>\n",
       "  </thead>\n",
       "  <tbody>\n",
       "    <tr>\n",
       "      <th>count</th>\n",
       "      <td>13730.000000</td>\n",
       "      <td>13730.000000</td>\n",
       "      <td>13730.000000</td>\n",
       "      <td>13730.000000</td>\n",
       "      <td>13730.000000</td>\n",
       "      <td>13730.000000</td>\n",
       "      <td>13730.000000</td>\n",
       "      <td>13730.000000</td>\n",
       "      <td>13730.000000</td>\n",
       "      <td>13730.000000</td>\n",
       "      <td>...</td>\n",
       "      <td>13730.000000</td>\n",
       "      <td>13730.000000</td>\n",
       "      <td>13730.000000</td>\n",
       "      <td>13730.000000</td>\n",
       "      <td>13730.000000</td>\n",
       "      <td>13730.000000</td>\n",
       "      <td>13730.000000</td>\n",
       "      <td>13730.000000</td>\n",
       "      <td>13730.000000</td>\n",
       "      <td>13730.000000</td>\n",
       "    </tr>\n",
       "    <tr>\n",
       "      <th>mean</th>\n",
       "      <td>0.009687</td>\n",
       "      <td>0.671449</td>\n",
       "      <td>0.000947</td>\n",
       "      <td>0.000146</td>\n",
       "      <td>0.398762</td>\n",
       "      <td>0.381573</td>\n",
       "      <td>390.447633</td>\n",
       "      <td>21.593809</td>\n",
       "      <td>0.754479</td>\n",
       "      <td>0.001238</td>\n",
       "      <td>...</td>\n",
       "      <td>0.000073</td>\n",
       "      <td>0.569192</td>\n",
       "      <td>0.754479</td>\n",
       "      <td>78.838310</td>\n",
       "      <td>381.166737</td>\n",
       "      <td>2.185652</td>\n",
       "      <td>83.487618</td>\n",
       "      <td>0.693445</td>\n",
       "      <td>0.738747</td>\n",
       "      <td>0.129862</td>\n",
       "    </tr>\n",
       "    <tr>\n",
       "      <th>std</th>\n",
       "      <td>0.097947</td>\n",
       "      <td>0.726335</td>\n",
       "      <td>0.030757</td>\n",
       "      <td>0.012069</td>\n",
       "      <td>1.027900</td>\n",
       "      <td>0.485790</td>\n",
       "      <td>267.749316</td>\n",
       "      <td>7.043654</td>\n",
       "      <td>0.431932</td>\n",
       "      <td>0.035167</td>\n",
       "      <td>...</td>\n",
       "      <td>0.008534</td>\n",
       "      <td>0.495207</td>\n",
       "      <td>0.431932</td>\n",
       "      <td>55.469523</td>\n",
       "      <td>234.648409</td>\n",
       "      <td>1.007285</td>\n",
       "      <td>57.460251</td>\n",
       "      <td>0.806536</td>\n",
       "      <td>0.440162</td>\n",
       "      <td>0.336163</td>\n",
       "    </tr>\n",
       "    <tr>\n",
       "      <th>min</th>\n",
       "      <td>0.000000</td>\n",
       "      <td>0.000000</td>\n",
       "      <td>0.000000</td>\n",
       "      <td>0.000000</td>\n",
       "      <td>0.000000</td>\n",
       "      <td>0.000000</td>\n",
       "      <td>0.000000</td>\n",
       "      <td>13.000000</td>\n",
       "      <td>0.000000</td>\n",
       "      <td>0.000000</td>\n",
       "      <td>...</td>\n",
       "      <td>0.000000</td>\n",
       "      <td>0.000000</td>\n",
       "      <td>0.000000</td>\n",
       "      <td>0.000000</td>\n",
       "      <td>0.000000</td>\n",
       "      <td>0.000000</td>\n",
       "      <td>0.000000</td>\n",
       "      <td>0.000000</td>\n",
       "      <td>0.000000</td>\n",
       "      <td>0.000000</td>\n",
       "    </tr>\n",
       "    <tr>\n",
       "      <th>25%</th>\n",
       "      <td>0.000000</td>\n",
       "      <td>0.000000</td>\n",
       "      <td>0.000000</td>\n",
       "      <td>0.000000</td>\n",
       "      <td>0.000000</td>\n",
       "      <td>0.000000</td>\n",
       "      <td>0.000000</td>\n",
       "      <td>17.000000</td>\n",
       "      <td>1.000000</td>\n",
       "      <td>0.000000</td>\n",
       "      <td>...</td>\n",
       "      <td>0.000000</td>\n",
       "      <td>0.000000</td>\n",
       "      <td>1.000000</td>\n",
       "      <td>0.000000</td>\n",
       "      <td>0.000000</td>\n",
       "      <td>1.000000</td>\n",
       "      <td>0.000000</td>\n",
       "      <td>0.000000</td>\n",
       "      <td>0.000000</td>\n",
       "      <td>0.000000</td>\n",
       "    </tr>\n",
       "    <tr>\n",
       "      <th>50%</th>\n",
       "      <td>0.000000</td>\n",
       "      <td>1.000000</td>\n",
       "      <td>0.000000</td>\n",
       "      <td>0.000000</td>\n",
       "      <td>0.000000</td>\n",
       "      <td>0.000000</td>\n",
       "      <td>480.000000</td>\n",
       "      <td>19.000000</td>\n",
       "      <td>1.000000</td>\n",
       "      <td>0.000000</td>\n",
       "      <td>...</td>\n",
       "      <td>0.000000</td>\n",
       "      <td>1.000000</td>\n",
       "      <td>1.000000</td>\n",
       "      <td>100.000000</td>\n",
       "      <td>486.000000</td>\n",
       "      <td>3.000000</td>\n",
       "      <td>100.000000</td>\n",
       "      <td>0.000000</td>\n",
       "      <td>1.000000</td>\n",
       "      <td>0.000000</td>\n",
       "    </tr>\n",
       "    <tr>\n",
       "      <th>75%</th>\n",
       "      <td>0.000000</td>\n",
       "      <td>1.000000</td>\n",
       "      <td>0.000000</td>\n",
       "      <td>0.000000</td>\n",
       "      <td>0.000000</td>\n",
       "      <td>1.000000</td>\n",
       "      <td>580.000000</td>\n",
       "      <td>23.000000</td>\n",
       "      <td>1.000000</td>\n",
       "      <td>0.000000</td>\n",
       "      <td>...</td>\n",
       "      <td>0.000000</td>\n",
       "      <td>1.000000</td>\n",
       "      <td>1.000000</td>\n",
       "      <td>120.000000</td>\n",
       "      <td>548.300000</td>\n",
       "      <td>3.000000</td>\n",
       "      <td>120.000000</td>\n",
       "      <td>1.000000</td>\n",
       "      <td>1.000000</td>\n",
       "      <td>0.000000</td>\n",
       "    </tr>\n",
       "    <tr>\n",
       "      <th>max</th>\n",
       "      <td>1.000000</td>\n",
       "      <td>4.000000</td>\n",
       "      <td>1.000000</td>\n",
       "      <td>1.000000</td>\n",
       "      <td>4.000000</td>\n",
       "      <td>1.000000</td>\n",
       "      <td>1000.000000</td>\n",
       "      <td>67.000000</td>\n",
       "      <td>2.000000</td>\n",
       "      <td>1.000000</td>\n",
       "      <td>...</td>\n",
       "      <td>1.000000</td>\n",
       "      <td>1.000000</td>\n",
       "      <td>2.000000</td>\n",
       "      <td>200.000000</td>\n",
       "      <td>763.600000</td>\n",
       "      <td>5.000000</td>\n",
       "      <td>200.000000</td>\n",
       "      <td>2.000000</td>\n",
       "      <td>2.000000</td>\n",
       "      <td>1.000000</td>\n",
       "    </tr>\n",
       "  </tbody>\n",
       "</table>\n",
       "<p>8 rows × 41 columns</p>\n",
       "</div>"
      ],
      "text/plain": [
       "       IN_SABATISTA          Q024   IN_GESTANTE      IN_IDOSO          Q047  \\\n",
       "count  13730.000000  13730.000000  13730.000000  13730.000000  13730.000000   \n",
       "mean       0.009687      0.671449      0.000947      0.000146      0.398762   \n",
       "std        0.097947      0.726335      0.030757      0.012069      1.027900   \n",
       "min        0.000000      0.000000      0.000000      0.000000      0.000000   \n",
       "25%        0.000000      0.000000      0.000000      0.000000      0.000000   \n",
       "50%        0.000000      1.000000      0.000000      0.000000      0.000000   \n",
       "75%        0.000000      1.000000      0.000000      0.000000      0.000000   \n",
       "max        1.000000      4.000000      1.000000      1.000000      4.000000   \n",
       "\n",
       "            TP_SEXO  NU_NOTA_REDACAO      NU_IDADE  TP_PRESENCA_CN  \\\n",
       "count  13730.000000     13730.000000  13730.000000    13730.000000   \n",
       "mean       0.381573       390.447633     21.593809        0.754479   \n",
       "std        0.485790       267.749316      7.043654        0.431932   \n",
       "min        0.000000         0.000000     13.000000        0.000000   \n",
       "25%        0.000000         0.000000     17.000000        1.000000   \n",
       "50%        0.000000       480.000000     19.000000        1.000000   \n",
       "75%        1.000000       580.000000     23.000000        1.000000   \n",
       "max        1.000000      1000.000000     67.000000        2.000000   \n",
       "\n",
       "       IN_BAIXA_VISAO  ...  IN_DISCALCULIA          Q025  TP_PRESENCA_CH  \\\n",
       "count    13730.000000  ...    13730.000000  13730.000000    13730.000000   \n",
       "mean         0.001238  ...        0.000073      0.569192        0.754479   \n",
       "std          0.035167  ...        0.008534      0.495207        0.431932   \n",
       "min          0.000000  ...        0.000000      0.000000        0.000000   \n",
       "25%          0.000000  ...        0.000000      0.000000        1.000000   \n",
       "50%          0.000000  ...        0.000000      1.000000        1.000000   \n",
       "75%          0.000000  ...        0.000000      1.000000        1.000000   \n",
       "max          1.000000  ...        1.000000      1.000000        2.000000   \n",
       "\n",
       "       NU_NOTA_COMP3    NU_NOTA_LC   TP_COR_RACA  NU_NOTA_COMP4          Q026  \\\n",
       "count   13730.000000  13730.000000  13730.000000   13730.000000  13730.000000   \n",
       "mean       78.838310    381.166737      2.185652      83.487618      0.693445   \n",
       "std        55.469523    234.648409      1.007285      57.460251      0.806536   \n",
       "min         0.000000      0.000000      0.000000       0.000000      0.000000   \n",
       "25%         0.000000      0.000000      1.000000       0.000000      0.000000   \n",
       "50%       100.000000    486.000000      3.000000     100.000000      0.000000   \n",
       "75%       120.000000    548.300000      3.000000     120.000000      1.000000   \n",
       "max       200.000000    763.600000      5.000000     200.000000      2.000000   \n",
       "\n",
       "       TP_PRESENCA_MT  IN_TREINEIRO  \n",
       "count    13730.000000  13730.000000  \n",
       "mean         0.738747      0.129862  \n",
       "std          0.440162      0.336163  \n",
       "min          0.000000      0.000000  \n",
       "25%          0.000000      0.000000  \n",
       "50%          1.000000      0.000000  \n",
       "75%          1.000000      0.000000  \n",
       "max          2.000000      1.000000  \n",
       "\n",
       "[8 rows x 41 columns]"
      ]
     },
     "execution_count": 11,
     "metadata": {},
     "output_type": "execute_result"
    }
   ],
   "source": [
    "train.describe()"
   ]
  },
  {
   "cell_type": "markdown",
   "metadata": {},
   "source": [
    "## Desproporcionalidade nas características alvo"
   ]
  },
  {
   "cell_type": "code",
   "execution_count": 12,
   "metadata": {},
   "outputs": [
    {
     "data": {
      "image/png": "[encoded data removed]",
      "text/plain": [
       "<Figure size 432x288 with 1 Axes>"
      ]
     },
     "metadata": {
      "needs_background": "light"
     },
     "output_type": "display_data"
    }
   ],
   "source": [
    "plt.hist(train.IN_TREINEIRO,bins=[-.5,.5,1.5],ec='k')\n",
    "plt.xticks((0,1))\n",
    "plt.show()"
   ]
  },
  {
   "cell_type": "markdown",
   "metadata": {},
   "source": [
    "## Mapa de correlação das variáveis pré tratamento"
   ]
  },
  {
   "cell_type": "code",
   "execution_count": 13,
   "metadata": {},
   "outputs": [
    {
     "data": {
      "text/plain": [
       "<matplotlib.axes._subplots.AxesSubplot at 0x2925cb1fa48>"
      ]
     },
     "execution_count": 13,
     "metadata": {},
     "output_type": "execute_result"
    },
    {
     "data": {
      "image/png": "[encoded data removed]",
      "text/plain": [
       "<Figure size 432x288 with 2 Axes>"
      ]
     },
     "metadata": {
      "needs_background": "light"
     },
     "output_type": "display_data"
    }
   ],
   "source": [
    "corr= train.corr()\n",
    "sns.heatmap(corr)"
   ]
  },
  {
   "cell_type": "markdown",
   "metadata": {},
   "source": [
    "## Codificando as variavéis categóricas\n",
    "\n"
   ]
  },
  {
   "cell_type": "code",
   "execution_count": 14,
   "metadata": {},
   "outputs": [],
   "source": [
    "def converte_var_categoricas(data):\n",
    "    le = []\n",
    "    i=0\n",
    "    category_features = data.select_dtypes(include='object').columns\n",
    "    for col_category in category_features:\n",
    "        le.append(LabelEncoder())\n",
    "        data[col_category] = le[i].fit_transform(data[col_category])\n",
    "        i+=1\n",
    "    return data\n",
    "\n",
    "train = converte_var_categoricas(train)\n",
    "test = converte_var_categoricas(test)"
   ]
  },
  {
   "cell_type": "code",
   "execution_count": 15,
   "metadata": {},
   "outputs": [],
   "source": [
    "train.fillna(0,inplace=True)\n",
    "test.fillna(0,inplace=True)"
   ]
  },
  {
   "cell_type": "markdown",
   "metadata": {},
   "source": [
    "## Faremos o balanceamento do dataset durante a própria implementação\n"
   ]
  },
  {
   "cell_type": "code",
   "execution_count": 16,
   "metadata": {},
   "outputs": [
    {
     "name": "stderr",
     "output_type": "stream",
     "text": [
      "Using TensorFlow backend.\n",
      "C:\\Users\\Weslley\\anaconda3\\lib\\site-packages\\tensorflow\\python\\framework\\dtypes.py:526: FutureWarning: Passing (type, 1) or '1type' as a synonym of type is deprecated; in a future version of numpy, it will be understood as (type, (1,)) / '(1,)type'.\n",
      "  _np_qint8 = np.dtype([(\"qint8\", np.int8, 1)])\n",
      "C:\\Users\\Weslley\\anaconda3\\lib\\site-packages\\tensorflow\\python\\framework\\dtypes.py:527: FutureWarning: Passing (type, 1) or '1type' as a synonym of type is deprecated; in a future version of numpy, it will be understood as (type, (1,)) / '(1,)type'.\n",
      "  _np_quint8 = np.dtype([(\"quint8\", np.uint8, 1)])\n",
      "C:\\Users\\Weslley\\anaconda3\\lib\\site-packages\\tensorflow\\python\\framework\\dtypes.py:528: FutureWarning: Passing (type, 1) or '1type' as a synonym of type is deprecated; in a future version of numpy, it will be understood as (type, (1,)) / '(1,)type'.\n",
      "  _np_qint16 = np.dtype([(\"qint16\", np.int16, 1)])\n",
      "C:\\Users\\Weslley\\anaconda3\\lib\\site-packages\\tensorflow\\python\\framework\\dtypes.py:529: FutureWarning: Passing (type, 1) or '1type' as a synonym of type is deprecated; in a future version of numpy, it will be understood as (type, (1,)) / '(1,)type'.\n",
      "  _np_quint16 = np.dtype([(\"quint16\", np.uint16, 1)])\n",
      "C:\\Users\\Weslley\\anaconda3\\lib\\site-packages\\tensorflow\\python\\framework\\dtypes.py:530: FutureWarning: Passing (type, 1) or '1type' as a synonym of type is deprecated; in a future version of numpy, it will be understood as (type, (1,)) / '(1,)type'.\n",
      "  _np_qint32 = np.dtype([(\"qint32\", np.int32, 1)])\n",
      "C:\\Users\\Weslley\\anaconda3\\lib\\site-packages\\tensorflow\\python\\framework\\dtypes.py:535: FutureWarning: Passing (type, 1) or '1type' as a synonym of type is deprecated; in a future version of numpy, it will be understood as (type, (1,)) / '(1,)type'.\n",
      "  np_resource = np.dtype([(\"resource\", np.ubyte, 1)])\n"
     ]
    }
   ],
   "source": [
    "from imblearn.ensemble import BalancedBaggingClassifier\n",
    "from sklearn.tree import DecisionTreeClassifier"
   ]
  },
  {
   "cell_type": "code",
   "execution_count": 66,
   "metadata": {},
   "outputs": [],
   "source": [
    "y = train['IN_TREINEIRO']\n",
    "X = train[['NU_IDADE','TP_ST_CONCLUSAO']]\n",
    "scaler = MinMaxScaler()\n",
    "X = scaler.fit_transform(X)\n",
    "#y = y.values.reshape(-1,1)\n",
    "X_train, X_test, y_train, y_test = train_test_split(X,y,random_state=12)"
   ]
  },
  {
   "cell_type": "code",
   "execution_count": 67,
   "metadata": {},
   "outputs": [],
   "source": [
    "bbc = BalancedBaggingClassifier(base_estimator=DecisionTreeClassifier(),\n",
    "                                sampling_strategy='auto',\n",
    "                                replacement=False,\n",
    "                                random_state=0)\n"
   ]
  },
  {
   "cell_type": "code",
   "execution_count": 68,
   "metadata": {},
   "outputs": [
    {
     "data": {
      "text/plain": [
       "BalancedBaggingClassifier(base_estimator=DecisionTreeClassifier(ccp_alpha=0.0,\n",
       "                                                                class_weight=None,\n",
       "                                                                criterion='gini',\n",
       "                                                                max_depth=None,\n",
       "                                                                max_features=None,\n",
       "                                                                max_leaf_nodes=None,\n",
       "                                                                min_impurity_decrease=0.0,\n",
       "                                                                min_impurity_split=None,\n",
       "                                                                min_samples_leaf=1,\n",
       "                                                                min_samples_split=2,\n",
       "                                                                min_weight_fraction_leaf=0.0,\n",
       "                                                                presort='deprecated',\n",
       "                                                                random_state=None,\n",
       "                                                                splitter='best'),\n",
       "                          bootstrap=True, bootstrap_features=False,\n",
       "                          max_features=1.0, max_samples=1.0, n_estimators=10,\n",
       "                          n_jobs=None, oob_score=False, random_state=0,\n",
       "                          replacement=False, sampling_strategy='auto',\n",
       "                          verbose=0, warm_start=False)"
      ]
     },
     "execution_count": 68,
     "metadata": {},
     "output_type": "execute_result"
    }
   ],
   "source": [
    "bbc.fit(X_train, y_train)\n"
   ]
  },
  {
   "cell_type": "code",
   "execution_count": 69,
   "metadata": {},
   "outputs": [
    {
     "data": {
      "text/plain": [
       "0.9845616079230993"
      ]
     },
     "execution_count": 69,
     "metadata": {},
     "output_type": "execute_result"
    }
   ],
   "source": [
    "bbc.score(X_test,y_test)"
   ]
  },
  {
   "cell_type": "code",
   "execution_count": 70,
   "metadata": {},
   "outputs": [],
   "source": [
    "X_final = test[['NU_IDADE','TP_ST_CONCLUSAO']]\n",
    "X_final = scaler.transform(X_final)\n",
    "previsao = bbc.predict(X_final)"
   ]
  },
  {
   "cell_type": "code",
   "execution_count": 71,
   "metadata": {},
   "outputs": [],
   "source": [
    "df_out['IN_TREINEIRO'] = previsao"
   ]
  },
  {
   "cell_type": "code",
   "execution_count": 72,
   "metadata": {},
   "outputs": [],
   "source": [
    "df_out.to_csv('answer.csv',index=False)"
   ]
  },
  {
   "cell_type": "code",
   "execution_count": null,
   "metadata": {},
   "outputs": [],
   "source": []
  },
  {
   "cell_type": "code",
   "execution_count": null,
   "metadata": {},
   "outputs": [],
   "source": []
  }
 ],
 "metadata": {
  "kernelspec": {
   "display_name": "Python 3",
   "language": "python",
   "name": "python3"
  },
  "language_info": {
   "codemirror_mode": {
    "name": "ipython",
    "version": 3
   },
   "file_extension": ".py",
   "mimetype": "text/x-python",
   "name": "python",
   "nbconvert_exporter": "python",
   "pygments_lexer": "ipython3",
   "version": "3.7.6"
  }
 },
 "nbformat": 4,
 "nbformat_minor": 4
}
